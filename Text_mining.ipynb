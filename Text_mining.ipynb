{
 "cells": [
  {
   "cell_type": "code",
   "execution_count": 1,
   "id": "3af05bc8",
   "metadata": {},
   "outputs": [
    {
     "name": "stdout",
     "output_type": "stream",
     "text": [
      "Requirement already satisfied: nltk in c:\\users\\cristina\\anaconda3\\lib\\site-packages (3.6.5)\n",
      "Requirement already satisfied: click in c:\\users\\cristina\\anaconda3\\lib\\site-packages (from nltk) (8.0.3)\n",
      "Requirement already satisfied: joblib in c:\\users\\cristina\\anaconda3\\lib\\site-packages (from nltk) (1.1.0)\n",
      "Requirement already satisfied: regex>=2021.8.3 in c:\\users\\cristina\\anaconda3\\lib\\site-packages (from nltk) (2021.8.3)\n",
      "Requirement already satisfied: tqdm in c:\\users\\cristina\\anaconda3\\lib\\site-packages (from nltk) (4.62.3)\n",
      "Requirement already satisfied: colorama in c:\\users\\cristina\\anaconda3\\lib\\site-packages (from click->nltk) (0.4.4)\n"
     ]
    }
   ],
   "source": [
    "!pip install nltk"
   ]
  },
  {
   "cell_type": "code",
   "execution_count": 7,
   "id": "d85e73f4",
   "metadata": {},
   "outputs": [
    {
     "name": "stdout",
     "output_type": "stream",
     "text": [
      "Collecting python-docx\n",
      "  Downloading python-docx-0.8.11.tar.gz (5.6 MB)\n",
      "Requirement already satisfied: lxml>=2.3.2 in c:\\users\\cristina\\anaconda3\\lib\\site-packages (from python-docx) (4.6.3)\n",
      "Building wheels for collected packages: python-docx\n",
      "  Building wheel for python-docx (setup.py): started\n",
      "  Building wheel for python-docx (setup.py): finished with status 'done'\n",
      "  Created wheel for python-docx: filename=python_docx-0.8.11-py3-none-any.whl size=184508 sha256=de97170984c788df280b5cebdb5095c076bead35daee91937ac0ccce02fb1d79\n",
      "  Stored in directory: c:\\users\\cristina\\appdata\\local\\pip\\cache\\wheels\\83\\8b\\7c\\09ae60c42c7ba4ed2dddaf2b8b9186cb105255856d6ed3dba5\n",
      "Successfully built python-docx\n",
      "Installing collected packages: python-docx\n",
      "Successfully installed python-docx-0.8.11\n",
      "Note: you may need to restart the kernel to use updated packages.\n"
     ]
    }
   ],
   "source": [
    "pip install python-docx"
   ]
  },
  {
   "cell_type": "code",
   "execution_count": 53,
   "id": "9b14a4d5",
   "metadata": {},
   "outputs": [
    {
     "name": "stdout",
     "output_type": "stream",
     "text": [
      "Collecting text2emotion\n",
      "  Downloading text2emotion-0.0.5-py3-none-any.whl (57 kB)\n",
      "Requirement already satisfied: nltk in c:\\users\\cristina\\anaconda3\\lib\\site-packages (from text2emotion) (3.6.5)\n",
      "Collecting emoji>=0.6.0\n",
      "Note: you may need to restart the kernel to use updated packages.\n",
      "  Downloading emoji-2.0.0.tar.gz (197 kB)\n",
      "Requirement already satisfied: click in c:\\users\\cristina\\anaconda3\\lib\\site-packages (from nltk->text2emotion) (8.0.3)\n",
      "Requirement already satisfied: joblib in c:\\users\\cristina\\anaconda3\\lib\\site-packages (from nltk->text2emotion) (1.1.0)\n",
      "Requirement already satisfied: regex>=2021.8.3 in c:\\users\\cristina\\anaconda3\\lib\\site-packages (from nltk->text2emotion) (2021.8.3)\n",
      "Requirement already satisfied: tqdm in c:\\users\\cristina\\anaconda3\\lib\\site-packages (from nltk->text2emotion) (4.62.3)\n",
      "Requirement already satisfied: colorama in c:\\users\\cristina\\anaconda3\\lib\\site-packages (from click->nltk->text2emotion) (0.4.4)\n",
      "Building wheels for collected packages: emoji\n",
      "  Building wheel for emoji (setup.py): started\n",
      "  Building wheel for emoji (setup.py): finished with status 'done'\n",
      "  Created wheel for emoji: filename=emoji-2.0.0-py3-none-any.whl size=193021 sha256=9473724549781005a1412f7ba022d4bd27ce380611d6279e2a35609453cdb5cc\n",
      "  Stored in directory: c:\\users\\cristina\\appdata\\local\\pip\\cache\\wheels\\0e\\d1\\c5\\63b511b700c9da5a62bbfc758dd4a3fd9541df51b5db0694b0\n",
      "Successfully built emoji\n",
      "Installing collected packages: emoji, text2emotion\n",
      "Successfully installed emoji-2.0.0 text2emotion-0.0.5\n"
     ]
    }
   ],
   "source": [
    "pip install text2emotion"
   ]
  },
  {
   "cell_type": "code",
   "execution_count": 1,
   "id": "f5b41b35",
   "metadata": {},
   "outputs": [
    {
     "name": "stderr",
     "output_type": "stream",
     "text": [
      "[nltk_data] Downloading package punkt to\n",
      "[nltk_data]     C:\\Users\\Cristina\\AppData\\Roaming\\nltk_data...\n",
      "[nltk_data]   Unzipping tokenizers\\punkt.zip.\n"
     ]
    }
   ],
   "source": [
    "nltk.download('punkt')"
   ]
  },
  {
   "cell_type": "code",
   "execution_count": 26,
   "id": "4ac2540c",
   "metadata": {},
   "outputs": [
    {
     "name": "stderr",
     "output_type": "stream",
     "text": [
      "[nltk_data] Downloading package stopwords to\n",
      "[nltk_data]     C:\\Users\\Cristina\\AppData\\Roaming\\nltk_data...\n",
      "[nltk_data]   Unzipping corpora\\stopwords.zip.\n"
     ]
    },
    {
     "data": {
      "text/plain": [
       "True"
      ]
     },
     "execution_count": 26,
     "metadata": {},
     "output_type": "execute_result"
    }
   ],
   "source": [
    "nltk.download('stopwords')"
   ]
  },
  {
   "cell_type": "code",
   "execution_count": 56,
   "id": "f55c10a4",
   "metadata": {},
   "outputs": [
    {
     "name": "stderr",
     "output_type": "stream",
     "text": [
      "[nltk_data] Downloading package vader_lexicon to\n",
      "[nltk_data]     C:\\Users\\Cristina\\AppData\\Roaming\\nltk_data...\n"
     ]
    },
    {
     "data": {
      "text/plain": [
       "True"
      ]
     },
     "execution_count": 56,
     "metadata": {},
     "output_type": "execute_result"
    }
   ],
   "source": [
    "nltk.download('vader_lexicon')"
   ]
  },
  {
   "cell_type": "code",
   "execution_count": 1,
   "id": "78c22fc8",
   "metadata": {
    "scrolled": true
   },
   "outputs": [
    {
     "name": "stderr",
     "output_type": "stream",
     "text": [
      "[nltk_data] Downloading package stopwords to\n",
      "[nltk_data]     C:\\Users\\Cristina\\AppData\\Roaming\\nltk_data...\n",
      "[nltk_data]   Package stopwords is already up-to-date!\n",
      "[nltk_data] Downloading package punkt to\n",
      "[nltk_data]     C:\\Users\\Cristina\\AppData\\Roaming\\nltk_data...\n",
      "[nltk_data]   Package punkt is already up-to-date!\n",
      "[nltk_data] Downloading package wordnet to\n",
      "[nltk_data]     C:\\Users\\Cristina\\AppData\\Roaming\\nltk_data...\n",
      "[nltk_data]   Package wordnet is already up-to-date!\n"
     ]
    }
   ],
   "source": [
    "import nltk\n",
    "from nltk.tokenize import sent_tokenize\n",
    "from nltk.tokenize import wordpunct_tokenize\n",
    "from nltk.probability import FreqDist\n",
    "from docx import Document\n",
    "from nltk.corpus import stopwords\n",
    "from nltk.stem import PorterStemmer\n",
    "\n",
    "from nltk.sentiment.vader import SentimentIntensityAnalyzer\n",
    "import text2emotion as te   \n",
    "\n",
    "import matplotlib.pyplot as plt"
   ]
  },
  {
   "cell_type": "code",
   "execution_count": 74,
   "id": "bdfd1d49",
   "metadata": {},
   "outputs": [
    {
     "name": "stdout",
     "output_type": "stream",
     "text": [
      "Collecting emoji==1.2\n",
      "  Downloading emoji-1.2.0-py3-none-any.whl (131 kB)\n",
      "Installing collected packages: emoji\n",
      "  Attempting uninstall: emoji\n",
      "    Found existing installation: emoji 1.5.0\n",
      "    Uninstalling emoji-1.5.0:\n",
      "      Successfully uninstalled emoji-1.5.0\n",
      "Successfully installed emoji-1.2.0\n",
      "Note: you may need to restart the kernel to use updated packages.\n"
     ]
    }
   ],
   "source": [
    "pip install emoji==1.2"
   ]
  },
  {
   "cell_type": "markdown",
   "id": "925582c6",
   "metadata": {},
   "source": [
    "# M09 T01"
   ]
  },
  {
   "cell_type": "markdown",
   "id": "c9d87380",
   "metadata": {},
   "source": [
    "### Text sentiment analysis"
   ]
  },
  {
   "cell_type": "markdown",
   "id": "e97b1b94",
   "metadata": {},
   "source": [
    "<u>*Exercice 1*<u>"
   ]
  },
  {
   "cell_type": "markdown",
   "id": "3e1be6b1",
   "metadata": {},
   "source": [
    "*Agafa un text en anglès que vulguis, i calcula'n la freqüència de les paraules.*"
   ]
  },
  {
   "cell_type": "code",
   "execution_count": 2,
   "id": "1298bedf",
   "metadata": {},
   "outputs": [],
   "source": [
    "import docx\n",
    "\n",
    "def getText(filename):\n",
    "    #This function parses docx files and returns a list of strings args: path of the file returns: list of strings \n",
    "    #containing the text which are splitted by new line\n",
    "    count = 0\n",
    "    doc = docx.Document(filename)\n",
    "    fullText = []\n",
    "    for para in doc.paragraphs:\n",
    "        # Making sure that empty string does not append into the list\n",
    "        if len(para.text) > 3:\n",
    "            fullText.append(para.text)\n",
    "    return fullText"
   ]
  },
  {
   "cell_type": "code",
   "execution_count": 3,
   "id": "9cb6f59a",
   "metadata": {},
   "outputs": [
    {
     "data": {
      "text/plain": [
       "['Main reasons for abandoning a pet animal',\n",
       " 'Reasons for abandoning dogs and cats',\n",
       " \"According to the latest Affinity Foundation study “He would never do it” into animal abandonment, the main reasons for abandoning dogs and cats in Spain last year were once again unwanted litters (15.3%), the end of the hunting season (12.6%), the animal's problematic behaviour (10.8%), economic factors (10.7%), loss of interest in the animal (9.8%) and changes of residence (8.9%).\",\n",
       " 'Among the less frequent reasons for abandonment we find allergies in one the family members (4.4%), the birth of a child (3.9%), admission to hospital or death of the owner (6.0%), holidays (1.2%) and the fear of contracting toxoplasmosis during pregnancy (0.5%).',\n",
       " '\\nWhen living with a pet animal is not a success',\n",
       " 'Many people enjoy the company of a dog or cat and would never consider getting rid of their pet animal who is seen as another member of the family. Nevertheless, in many cases the coexistence of humans and animals is not always successful and sometimes the relationship fails.',\n",
       " 'If somebody has a strong commitment to an animal, they will exhaust all options before accepting breaking up their coexistence. Most behavioural problems can be rectified with the help of a professional.',\n",
       " 'However, if it becomes impossible to continue living together with an animal, we will have to find another family or person who can take care of it to ensure the animal finds itself in the best possible circumstances',\n",
       " 'It is possible that an animal does not adapt to a household, yet is the perfect companion for another family or person. We could for example look for a family in our surroundings to make sure it will be in good hands.',\n",
       " 'If not, then there are digital platforms like\\xa0Miwuki\\xa0which help with providing adoption for animals. They establish contact between shelters and possible adopters, but also bring people who cannot take care of their animals in contact with other individuals interested in adopting them.',\n",
       " 'Awareness of animal abandonment',\n",
       " 'Although society in general is advancing towards a growing awareness of our responsibility for pet animals and the commitment required to live with them, unfortunately there still are many cases of abandonment.',\n",
       " 'In percentage terms they are a minority, not even 2% of all cases. The majority of people who live together with a dog or cat do so happily and responsibly.',\n",
       " 'The numbers are nevertheless worrisome and indicate there are still many people who do not have a healthy relationship with their animal in terms of responsibility and a solid commitment. Without serious prior consideration and without this healthy relationship, the problems which derive from coexistence may lead to abandonment.',\n",
       " 'Advice in case you want to adopt a pet animal',\n",
       " 'If you are considering the possibility of\\xa0adopting a pet animal\\xa0and wish to share your life with a dog or cat, you should keep in mind the following key aspects:',\n",
       " \"Think it over.\\xa0Before adopting a pet animal, you must be sure about the commitment this implies. It's a choice for the rest of the animal's life and you should involve the whole family in the decision.\",\n",
       " 'Look for information.\\xa0Ask for advice and assessment from the shelters in order to be prepared, to know which type of animal goes best with our habits and to be informed about the responsibilities we must to be ready to assume.',\n",
       " 'Sterilize\\xa0your dog or cat to avoid unwanted litters, which remains the main cause for abandonment in Spain.',\n",
       " \"Identify\\xa0your pet animal correctly to help it being returned to you in case it's gone missing.\",\n",
       " 'Train\\xa0the animal to improve its behaviour. This way, the coexistence will be much easier and we will enjoy more the company of our dog or cat.']"
      ]
     },
     "execution_count": 3,
     "metadata": {},
     "output_type": "execute_result"
    }
   ],
   "source": [
    "text = getText('Main reasons for abandoning a pet animal.docx')\n",
    "text"
   ]
  },
  {
   "cell_type": "code",
   "execution_count": 4,
   "id": "8489bf4a",
   "metadata": {},
   "outputs": [
    {
     "data": {
      "text/plain": [
       "\"Main reasons for abandoning a pet animal Reasons for abandoning dogs and cats According to the latest Affinity Foundation study “He would never do it” into animal abandonment, the main reasons for abandoning dogs and cats in Spain last year were once again unwanted litters (15.3%), the end of the hunting season (12.6%), the animal's problematic behaviour (10.8%), economic factors (10.7%), loss of interest in the animal (9.8%) and changes of residence (8.9%). Among the less frequent reasons for abandonment we find allergies in one the family members (4.4%), the birth of a child (3.9%), admission to hospital or death of the owner (6.0%), holidays (1.2%) and the fear of contracting toxoplasmosis during pregnancy (0.5%). \\nWhen living with a pet animal is not a success Many people enjoy the company of a dog or cat and would never consider getting rid of their pet animal who is seen as another member of the family. Nevertheless, in many cases the coexistence of humans and animals is not always successful and sometimes the relationship fails. If somebody has a strong commitment to an animal, they will exhaust all options before accepting breaking up their coexistence. Most behavioural problems can be rectified with the help of a professional. However, if it becomes impossible to continue living together with an animal, we will have to find another family or person who can take care of it to ensure the animal finds itself in the best possible circumstances It is possible that an animal does not adapt to a household, yet is the perfect companion for another family or person. We could for example look for a family in our surroundings to make sure it will be in good hands. If not, then there are digital platforms like\\xa0Miwuki\\xa0which help with providing adoption for animals. They establish contact between shelters and possible adopters, but also bring people who cannot take care of their animals in contact with other individuals interested in adopting them. Awareness of animal abandonment Although society in general is advancing towards a growing awareness of our responsibility for pet animals and the commitment required to live with them, unfortunately there still are many cases of abandonment. In percentage terms they are a minority, not even 2% of all cases. The majority of people who live together with a dog or cat do so happily and responsibly. The numbers are nevertheless worrisome and indicate there are still many people who do not have a healthy relationship with their animal in terms of responsibility and a solid commitment. Without serious prior consideration and without this healthy relationship, the problems which derive from coexistence may lead to abandonment. Advice in case you want to adopt a pet animal If you are considering the possibility of\\xa0adopting a pet animal\\xa0and wish to share your life with a dog or cat, you should keep in mind the following key aspects: Think it over.\\xa0Before adopting a pet animal, you must be sure about the commitment this implies. It's a choice for the rest of the animal's life and you should involve the whole family in the decision. Look for information.\\xa0Ask for advice and assessment from the shelters in order to be prepared, to know which type of animal goes best with our habits and to be informed about the responsibilities we must to be ready to assume. Sterilize\\xa0your dog or cat to avoid unwanted litters, which remains the main cause for abandonment in Spain. Identify\\xa0your pet animal correctly to help it being returned to you in case it's gone missing. Train\\xa0the animal to improve its behaviour. This way, the coexistence will be much easier and we will enjoy more the company of our dog or cat.\""
      ]
     },
     "execution_count": 4,
     "metadata": {},
     "output_type": "execute_result"
    }
   ],
   "source": [
    "text_str = ' '.join(text)\n",
    "text_str"
   ]
  },
  {
   "cell_type": "code",
   "execution_count": 5,
   "id": "5bd855ae",
   "metadata": {},
   "outputs": [
    {
     "name": "stdout",
     "output_type": "stream",
     "text": [
      "[\"Main reasons for abandoning a pet animal Reasons for abandoning dogs and cats According to the latest Affinity Foundation study “He would never do it” into animal abandonment, the main reasons for abandoning dogs and cats in Spain last year were once again unwanted litters (15.3%), the end of the hunting season (12.6%), the animal's problematic behaviour (10.8%), economic factors (10.7%), loss of interest in the animal (9.8%) and changes of residence (8.9%).\", 'Among the less frequent reasons for abandonment we find allergies in one the family members (4.4%), the birth of a child (3.9%), admission to hospital or death of the owner (6.0%), holidays (1.2%) and the fear of contracting toxoplasmosis during pregnancy (0.5%).', 'When living with a pet animal is not a success Many people enjoy the company of a dog or cat and would never consider getting rid of their pet animal who is seen as another member of the family.', 'Nevertheless, in many cases the coexistence of humans and animals is not always successful and sometimes the relationship fails.', 'If somebody has a strong commitment to an animal, they will exhaust all options before accepting breaking up their coexistence.', 'Most behavioural problems can be rectified with the help of a professional.', 'However, if it becomes impossible to continue living together with an animal, we will have to find another family or person who can take care of it to ensure the animal finds itself in the best possible circumstances It is possible that an animal does not adapt to a household, yet is the perfect companion for another family or person.', 'We could for example look for a family in our surroundings to make sure it will be in good hands.', 'If not, then there are digital platforms like\\xa0Miwuki\\xa0which help with providing adoption for animals.', 'They establish contact between shelters and possible adopters, but also bring people who cannot take care of their animals in contact with other individuals interested in adopting them.', 'Awareness of animal abandonment Although society in general is advancing towards a growing awareness of our responsibility for pet animals and the commitment required to live with them, unfortunately there still are many cases of abandonment.', 'In percentage terms they are a minority, not even 2% of all cases.', 'The majority of people who live together with a dog or cat do so happily and responsibly.', 'The numbers are nevertheless worrisome and indicate there are still many people who do not have a healthy relationship with their animal in terms of responsibility and a solid commitment.', 'Without serious prior consideration and without this healthy relationship, the problems which derive from coexistence may lead to abandonment.', 'Advice in case you want to adopt a pet animal If you are considering the possibility of\\xa0adopting a pet animal\\xa0and wish to share your life with a dog or cat, you should keep in mind the following key aspects: Think it over.', 'Before adopting a pet animal, you must be sure about the commitment this implies.', \"It's a choice for the rest of the animal's life and you should involve the whole family in the decision.\", 'Look for information.', 'Ask for advice and assessment from the shelters in order to be prepared, to know which type of animal goes best with our habits and to be informed about the responsibilities we must to be ready to assume.', 'Sterilize\\xa0your dog or cat to avoid unwanted litters, which remains the main cause for abandonment in Spain.', \"Identify\\xa0your pet animal correctly to help it being returned to you in case it's gone missing.\", 'Train\\xa0the animal to improve its behaviour.', 'This way, the coexistence will be much easier and we will enjoy more the company of our dog or cat.']\n"
     ]
    }
   ],
   "source": [
    "#Sentence tokenizer breaks text paragraph into sentences.\n",
    "\n",
    "tokenized_text=sent_tokenize(text_str)\n",
    "print(tokenized_text)"
   ]
  },
  {
   "cell_type": "code",
   "execution_count": 6,
   "id": "4742c8ca",
   "metadata": {},
   "outputs": [
    {
     "name": "stdout",
     "output_type": "stream",
     "text": [
      "['Main', 'reasons', 'for', 'abandoning', 'a', 'pet', 'animal', 'Reasons', 'for', 'abandoning', 'dogs', 'and', 'cats', 'According', 'to', 'the', 'latest', 'Affinity', 'Foundation', 'study', '“', 'He', 'would', 'never', 'do', 'it', '”', 'into', 'animal', 'abandonment', ',', 'the', 'main', 'reasons', 'for', 'abandoning', 'dogs', 'and', 'cats', 'in', 'Spain', 'last', 'year', 'were', 'once', 'again', 'unwanted', 'litters', '(', '15.3', '%', ')', ',', 'the', 'end', 'of', 'the', 'hunting', 'season', '(', '12.6', '%', ')', ',', 'the', 'animal', \"'s\", 'problematic', 'behaviour', '(', '10.8', '%', ')', ',', 'economic', 'factors', '(', '10.7', '%', ')', ',', 'loss', 'of', 'interest', 'in', 'the', 'animal', '(', '9.8', '%', ')', 'and', 'changes', 'of', 'residence', '(', '8.9', '%', ')', '.', 'Among', 'the', 'less', 'frequent', 'reasons', 'for', 'abandonment', 'we', 'find', 'allergies', 'in', 'one', 'the', 'family', 'members', '(', '4.4', '%', ')', ',', 'the', 'birth', 'of', 'a', 'child', '(', '3.9', '%', ')', ',', 'admission', 'to', 'hospital', 'or', 'death', 'of', 'the', 'owner', '(', '6.0', '%', ')', ',', 'holidays', '(', '1.2', '%', ')', 'and', 'the', 'fear', 'of', 'contracting', 'toxoplasmosis', 'during', 'pregnancy', '(', '0.5', '%', ')', '.', 'When', 'living', 'with', 'a', 'pet', 'animal', 'is', 'not', 'a', 'success', 'Many', 'people', 'enjoy', 'the', 'company', 'of', 'a', 'dog', 'or', 'cat', 'and', 'would', 'never', 'consider', 'getting', 'rid', 'of', 'their', 'pet', 'animal', 'who', 'is', 'seen', 'as', 'another', 'member', 'of', 'the', 'family', '.', 'Nevertheless', ',', 'in', 'many', 'cases', 'the', 'coexistence', 'of', 'humans', 'and', 'animals', 'is', 'not', 'always', 'successful', 'and', 'sometimes', 'the', 'relationship', 'fails', '.', 'If', 'somebody', 'has', 'a', 'strong', 'commitment', 'to', 'an', 'animal', ',', 'they', 'will', 'exhaust', 'all', 'options', 'before', 'accepting', 'breaking', 'up', 'their', 'coexistence', '.', 'Most', 'behavioural', 'problems', 'can', 'be', 'rectified', 'with', 'the', 'help', 'of', 'a', 'professional', '.', 'However', ',', 'if', 'it', 'becomes', 'impossible', 'to', 'continue', 'living', 'together', 'with', 'an', 'animal', ',', 'we', 'will', 'have', 'to', 'find', 'another', 'family', 'or', 'person', 'who', 'can', 'take', 'care', 'of', 'it', 'to', 'ensure', 'the', 'animal', 'finds', 'itself', 'in', 'the', 'best', 'possible', 'circumstances', 'It', 'is', 'possible', 'that', 'an', 'animal', 'does', 'not', 'adapt', 'to', 'a', 'household', ',', 'yet', 'is', 'the', 'perfect', 'companion', 'for', 'another', 'family', 'or', 'person', '.', 'We', 'could', 'for', 'example', 'look', 'for', 'a', 'family', 'in', 'our', 'surroundings', 'to', 'make', 'sure', 'it', 'will', 'be', 'in', 'good', 'hands', '.', 'If', 'not', ',', 'then', 'there', 'are', 'digital', 'platforms', 'like', 'Miwuki', 'which', 'help', 'with', 'providing', 'adoption', 'for', 'animals', '.', 'They', 'establish', 'contact', 'between', 'shelters', 'and', 'possible', 'adopters', ',', 'but', 'also', 'bring', 'people', 'who', 'can', 'not', 'take', 'care', 'of', 'their', 'animals', 'in', 'contact', 'with', 'other', 'individuals', 'interested', 'in', 'adopting', 'them', '.', 'Awareness', 'of', 'animal', 'abandonment', 'Although', 'society', 'in', 'general', 'is', 'advancing', 'towards', 'a', 'growing', 'awareness', 'of', 'our', 'responsibility', 'for', 'pet', 'animals', 'and', 'the', 'commitment', 'required', 'to', 'live', 'with', 'them', ',', 'unfortunately', 'there', 'still', 'are', 'many', 'cases', 'of', 'abandonment', '.', 'In', 'percentage', 'terms', 'they', 'are', 'a', 'minority', ',', 'not', 'even', '2', '%', 'of', 'all', 'cases', '.', 'The', 'majority', 'of', 'people', 'who', 'live', 'together', 'with', 'a', 'dog', 'or', 'cat', 'do', 'so', 'happily', 'and', 'responsibly', '.', 'The', 'numbers', 'are', 'nevertheless', 'worrisome', 'and', 'indicate', 'there', 'are', 'still', 'many', 'people', 'who', 'do', 'not', 'have', 'a', 'healthy', 'relationship', 'with', 'their', 'animal', 'in', 'terms', 'of', 'responsibility', 'and', 'a', 'solid', 'commitment', '.', 'Without', 'serious', 'prior', 'consideration', 'and', 'without', 'this', 'healthy', 'relationship', ',', 'the', 'problems', 'which', 'derive', 'from', 'coexistence', 'may', 'lead', 'to', 'abandonment', '.', 'Advice', 'in', 'case', 'you', 'want', 'to', 'adopt', 'a', 'pet', 'animal', 'If', 'you', 'are', 'considering', 'the', 'possibility', 'of', 'adopting', 'a', 'pet', 'animal', 'and', 'wish', 'to', 'share', 'your', 'life', 'with', 'a', 'dog', 'or', 'cat', ',', 'you', 'should', 'keep', 'in', 'mind', 'the', 'following', 'key', 'aspects', ':', 'Think', 'it', 'over', '.', 'Before', 'adopting', 'a', 'pet', 'animal', ',', 'you', 'must', 'be', 'sure', 'about', 'the', 'commitment', 'this', 'implies', '.', 'It', \"'s\", 'a', 'choice', 'for', 'the', 'rest', 'of', 'the', 'animal', \"'s\", 'life', 'and', 'you', 'should', 'involve', 'the', 'whole', 'family', 'in', 'the', 'decision', '.', 'Look', 'for', 'information', '.', 'Ask', 'for', 'advice', 'and', 'assessment', 'from', 'the', 'shelters', 'in', 'order', 'to', 'be', 'prepared', ',', 'to', 'know', 'which', 'type', 'of', 'animal', 'goes', 'best', 'with', 'our', 'habits', 'and', 'to', 'be', 'informed', 'about', 'the', 'responsibilities', 'we', 'must', 'to', 'be', 'ready', 'to', 'assume', '.', 'Sterilize', 'your', 'dog', 'or', 'cat', 'to', 'avoid', 'unwanted', 'litters', ',', 'which', 'remains', 'the', 'main', 'cause', 'for', 'abandonment', 'in', 'Spain', '.', 'Identify', 'your', 'pet', 'animal', 'correctly', 'to', 'help', 'it', 'being', 'returned', 'to', 'you', 'in', 'case', 'it', \"'s\", 'gone', 'missing', '.', 'Train', 'the', 'animal', 'to', 'improve', 'its', 'behaviour', '.', 'This', 'way', ',', 'the', 'coexistence', 'will', 'be', 'much', 'easier', 'and', 'we', 'will', 'enjoy', 'more', 'the', 'company', 'of', 'our', 'dog', 'or', 'cat', '.']\n"
     ]
    }
   ],
   "source": [
    "#Word tokenizer breaks text paragraph into words.\n",
    "\n",
    "from nltk.tokenize import word_tokenize\n",
    "tokenized_word=word_tokenize(text_str)\n",
    "print(tokenized_word)"
   ]
  },
  {
   "cell_type": "code",
   "execution_count": 7,
   "id": "06e09b1c",
   "metadata": {},
   "outputs": [
    {
     "name": "stdout",
     "output_type": "stream",
     "text": [
      "<FreqDist with 303 samples and 714 outcomes>\n"
     ]
    }
   ],
   "source": [
    "fdist = FreqDist(tokenized_word)\n",
    "print(fdist)"
   ]
  },
  {
   "cell_type": "code",
   "execution_count": 8,
   "id": "eefa577e",
   "metadata": {},
   "outputs": [
    {
     "data": {
      "text/plain": [
       "[('the', 34),\n",
       " ('.', 24),\n",
       " (',', 23),\n",
       " ('of', 23),\n",
       " ('to', 21),\n",
       " ('a', 19),\n",
       " ('animal', 19),\n",
       " ('and', 18),\n",
       " ('in', 17),\n",
       " ('for', 13),\n",
       " ('%', 12),\n",
       " ('(', 11),\n",
       " (')', 11),\n",
       " ('with', 10),\n",
       " ('pet', 8),\n",
       " ('or', 8),\n",
       " ('it', 7),\n",
       " ('not', 7),\n",
       " ('be', 7),\n",
       " ('abandonment', 6),\n",
       " ('family', 6),\n",
       " ('is', 6),\n",
       " ('are', 6),\n",
       " ('you', 6),\n",
       " ('dog', 5),\n",
       " ('cat', 5),\n",
       " ('who', 5),\n",
       " ('will', 5),\n",
       " (\"'s\", 4),\n",
       " ('we', 4),\n",
       " ('people', 4),\n",
       " ('their', 4),\n",
       " ('coexistence', 4),\n",
       " ('animals', 4),\n",
       " ('commitment', 4),\n",
       " ('our', 4),\n",
       " ('which', 4),\n",
       " ('reasons', 3),\n",
       " ('abandoning', 3),\n",
       " ('do', 3),\n",
       " ('another', 3),\n",
       " ('many', 3),\n",
       " ('cases', 3),\n",
       " ('relationship', 3),\n",
       " ('If', 3),\n",
       " ('an', 3),\n",
       " ('can', 3),\n",
       " ('help', 3),\n",
       " ('possible', 3),\n",
       " ('there', 3)]"
      ]
     },
     "execution_count": 8,
     "metadata": {},
     "output_type": "execute_result"
    }
   ],
   "source": [
    "#50 most repeated words\n",
    "\n",
    "fdist.most_common(50)"
   ]
  },
  {
   "cell_type": "code",
   "execution_count": 9,
   "id": "ad1e7f23",
   "metadata": {},
   "outputs": [
    {
     "data": {
      "image/png": "[encoded data removed]",
      "text/plain": [
       "<Figure size 1440x720 with 1 Axes>"
      ]
     },
     "metadata": {
      "needs_background": "light"
     },
     "output_type": "display_data"
    }
   ],
   "source": [
    "#visualization of the 50 most repeated words\n",
    "\n",
    "fig = plt.figure(figsize = (20,10))\n",
    "fdist.plot(50,cumulative=False, color = \"green\")\n",
    "plt.show()"
   ]
  },
  {
   "cell_type": "markdown",
   "id": "7bfc4cdd",
   "metadata": {},
   "source": [
    "As we can see in the chart above, the most frequent words in the text are stop words (words as the, this, a, an, is...). They are not descriptive of the content of your text, so it is necessary to remove them."
   ]
  },
  {
   "cell_type": "markdown",
   "id": "c4d5f4c7",
   "metadata": {},
   "source": [
    "<u>*Exercice 2*<u>"
   ]
  },
  {
   "cell_type": "markdown",
   "id": "407a105f",
   "metadata": {},
   "source": [
    "*Treu les stopwords i realitza stemming al teu conjunt de dades.*"
   ]
  },
  {
   "cell_type": "code",
   "execution_count": 10,
   "id": "c534214f",
   "metadata": {},
   "outputs": [
    {
     "name": "stdout",
     "output_type": "stream",
     "text": [
      "{'only', 'that', 'with', 'below', \"you'd\", 'between', 'because', 'aren', 'himself', 'doesn', 'what', 'under', 'of', 'wasn', \"hadn't\", 'weren', 'shouldn', 'whom', 'myself', 'yours', 'o', 'did', 'where', \"you've\", \"you're\", 'hadn', 'by', 'through', \"wasn't\", 'them', 'are', 'how', 'should', 'being', 'before', 'i', 'no', 'her', 'over', 'out', 'they', 'my', 'this', \"weren't\", 'his', 'been', 'why', 'mustn', 'we', 'him', \"shouldn't\", 'do', 'ourselves', 'here', 'does', 'after', 'same', \"shan't\", 'when', 'own', 'ain', 'me', \"that'll\", 'd', 'had', \"mustn't\", \"didn't\", 'now', 'll', 'those', 've', \"won't\", 'themselves', 'but', 'the', 'most', 'too', \"haven't\", 're', \"mightn't\", 'our', 'he', 'has', 'am', 'their', 'as', 'wouldn', 'herself', 'while', 'couldn', \"aren't\", 'can', \"needn't\", 'in', 's', \"doesn't\", \"you'll\", 'yourselves', 'to', 'then', 'you', 'having', 'some', 'up', 'once', \"couldn't\", 'hasn', 'it', 'nor', 'more', 'each', 'didn', 'such', 'all', 'other', 'further', 'hers', \"should've\", 'above', \"it's\", \"isn't\", 'y', 'not', 'its', 'an', 'any', \"hasn't\", 't', 'mightn', 'needn', 'just', 'yourself', 'ma', 'haven', 'these', 'm', 'about', 'don', 'into', 'is', 'so', 'theirs', 'which', 'against', 'be', 'itself', 'a', \"she's\", 'than', 'will', 'isn', 'very', 'doing', 'until', 'down', 'was', 'off', 'she', \"wouldn't\", 'ours', 'or', 'few', 'for', 'shan', 'who', 'on', 'there', 'at', 'have', 'and', 'won', 'were', 'if', 'from', 'your', \"don't\", 'again', 'both', 'during'}\n"
     ]
    }
   ],
   "source": [
    "#Stopwords considered as noise in the text. Text may contain stop words such as is, am, are, this, a, an, the, etc.\n",
    "\n",
    "stop_words=set(stopwords.words(\"english\"))\n",
    "print(stop_words)"
   ]
  },
  {
   "cell_type": "code",
   "execution_count": 11,
   "id": "85cbaee6",
   "metadata": {},
   "outputs": [
    {
     "name": "stdout",
     "output_type": "stream",
     "text": [
      "Tokenized Sentence: ['Main', 'reasons', 'for', 'abandoning', 'a', 'pet', 'animal', 'Reasons', 'for', 'abandoning', 'dogs', 'and', 'cats', 'According', 'to', 'the', 'latest', 'Affinity', 'Foundation', 'study', '“', 'He', 'would', 'never', 'do', 'it', '”', 'into', 'animal', 'abandonment', ',', 'the', 'main', 'reasons', 'for', 'abandoning', 'dogs', 'and', 'cats', 'in', 'Spain', 'last', 'year', 'were', 'once', 'again', 'unwanted', 'litters', '(', '15.3', '%', ')', ',', 'the', 'end', 'of', 'the', 'hunting', 'season', '(', '12.6', '%', ')', ',', 'the', 'animal', \"'s\", 'problematic', 'behaviour', '(', '10.8', '%', ')', ',', 'economic', 'factors', '(', '10.7', '%', ')', ',', 'loss', 'of', 'interest', 'in', 'the', 'animal', '(', '9.8', '%', ')', 'and', 'changes', 'of', 'residence', '(', '8.9', '%', ')', '.', 'Among', 'the', 'less', 'frequent', 'reasons', 'for', 'abandonment', 'we', 'find', 'allergies', 'in', 'one', 'the', 'family', 'members', '(', '4.4', '%', ')', ',', 'the', 'birth', 'of', 'a', 'child', '(', '3.9', '%', ')', ',', 'admission', 'to', 'hospital', 'or', 'death', 'of', 'the', 'owner', '(', '6.0', '%', ')', ',', 'holidays', '(', '1.2', '%', ')', 'and', 'the', 'fear', 'of', 'contracting', 'toxoplasmosis', 'during', 'pregnancy', '(', '0.5', '%', ')', '.', 'When', 'living', 'with', 'a', 'pet', 'animal', 'is', 'not', 'a', 'success', 'Many', 'people', 'enjoy', 'the', 'company', 'of', 'a', 'dog', 'or', 'cat', 'and', 'would', 'never', 'consider', 'getting', 'rid', 'of', 'their', 'pet', 'animal', 'who', 'is', 'seen', 'as', 'another', 'member', 'of', 'the', 'family', '.', 'Nevertheless', ',', 'in', 'many', 'cases', 'the', 'coexistence', 'of', 'humans', 'and', 'animals', 'is', 'not', 'always', 'successful', 'and', 'sometimes', 'the', 'relationship', 'fails', '.', 'If', 'somebody', 'has', 'a', 'strong', 'commitment', 'to', 'an', 'animal', ',', 'they', 'will', 'exhaust', 'all', 'options', 'before', 'accepting', 'breaking', 'up', 'their', 'coexistence', '.', 'Most', 'behavioural', 'problems', 'can', 'be', 'rectified', 'with', 'the', 'help', 'of', 'a', 'professional', '.', 'However', ',', 'if', 'it', 'becomes', 'impossible', 'to', 'continue', 'living', 'together', 'with', 'an', 'animal', ',', 'we', 'will', 'have', 'to', 'find', 'another', 'family', 'or', 'person', 'who', 'can', 'take', 'care', 'of', 'it', 'to', 'ensure', 'the', 'animal', 'finds', 'itself', 'in', 'the', 'best', 'possible', 'circumstances', 'It', 'is', 'possible', 'that', 'an', 'animal', 'does', 'not', 'adapt', 'to', 'a', 'household', ',', 'yet', 'is', 'the', 'perfect', 'companion', 'for', 'another', 'family', 'or', 'person', '.', 'We', 'could', 'for', 'example', 'look', 'for', 'a', 'family', 'in', 'our', 'surroundings', 'to', 'make', 'sure', 'it', 'will', 'be', 'in', 'good', 'hands', '.', 'If', 'not', ',', 'then', 'there', 'are', 'digital', 'platforms', 'like', 'Miwuki', 'which', 'help', 'with', 'providing', 'adoption', 'for', 'animals', '.', 'They', 'establish', 'contact', 'between', 'shelters', 'and', 'possible', 'adopters', ',', 'but', 'also', 'bring', 'people', 'who', 'can', 'not', 'take', 'care', 'of', 'their', 'animals', 'in', 'contact', 'with', 'other', 'individuals', 'interested', 'in', 'adopting', 'them', '.', 'Awareness', 'of', 'animal', 'abandonment', 'Although', 'society', 'in', 'general', 'is', 'advancing', 'towards', 'a', 'growing', 'awareness', 'of', 'our', 'responsibility', 'for', 'pet', 'animals', 'and', 'the', 'commitment', 'required', 'to', 'live', 'with', 'them', ',', 'unfortunately', 'there', 'still', 'are', 'many', 'cases', 'of', 'abandonment', '.', 'In', 'percentage', 'terms', 'they', 'are', 'a', 'minority', ',', 'not', 'even', '2', '%', 'of', 'all', 'cases', '.', 'The', 'majority', 'of', 'people', 'who', 'live', 'together', 'with', 'a', 'dog', 'or', 'cat', 'do', 'so', 'happily', 'and', 'responsibly', '.', 'The', 'numbers', 'are', 'nevertheless', 'worrisome', 'and', 'indicate', 'there', 'are', 'still', 'many', 'people', 'who', 'do', 'not', 'have', 'a', 'healthy', 'relationship', 'with', 'their', 'animal', 'in', 'terms', 'of', 'responsibility', 'and', 'a', 'solid', 'commitment', '.', 'Without', 'serious', 'prior', 'consideration', 'and', 'without', 'this', 'healthy', 'relationship', ',', 'the', 'problems', 'which', 'derive', 'from', 'coexistence', 'may', 'lead', 'to', 'abandonment', '.', 'Advice', 'in', 'case', 'you', 'want', 'to', 'adopt', 'a', 'pet', 'animal', 'If', 'you', 'are', 'considering', 'the', 'possibility', 'of', 'adopting', 'a', 'pet', 'animal', 'and', 'wish', 'to', 'share', 'your', 'life', 'with', 'a', 'dog', 'or', 'cat', ',', 'you', 'should', 'keep', 'in', 'mind', 'the', 'following', 'key', 'aspects', ':', 'Think', 'it', 'over', '.', 'Before', 'adopting', 'a', 'pet', 'animal', ',', 'you', 'must', 'be', 'sure', 'about', 'the', 'commitment', 'this', 'implies', '.', 'It', \"'s\", 'a', 'choice', 'for', 'the', 'rest', 'of', 'the', 'animal', \"'s\", 'life', 'and', 'you', 'should', 'involve', 'the', 'whole', 'family', 'in', 'the', 'decision', '.', 'Look', 'for', 'information', '.', 'Ask', 'for', 'advice', 'and', 'assessment', 'from', 'the', 'shelters', 'in', 'order', 'to', 'be', 'prepared', ',', 'to', 'know', 'which', 'type', 'of', 'animal', 'goes', 'best', 'with', 'our', 'habits', 'and', 'to', 'be', 'informed', 'about', 'the', 'responsibilities', 'we', 'must', 'to', 'be', 'ready', 'to', 'assume', '.', 'Sterilize', 'your', 'dog', 'or', 'cat', 'to', 'avoid', 'unwanted', 'litters', ',', 'which', 'remains', 'the', 'main', 'cause', 'for', 'abandonment', 'in', 'Spain', '.', 'Identify', 'your', 'pet', 'animal', 'correctly', 'to', 'help', 'it', 'being', 'returned', 'to', 'you', 'in', 'case', 'it', \"'s\", 'gone', 'missing', '.', 'Train', 'the', 'animal', 'to', 'improve', 'its', 'behaviour', '.', 'This', 'way', ',', 'the', 'coexistence', 'will', 'be', 'much', 'easier', 'and', 'we', 'will', 'enjoy', 'more', 'the', 'company', 'of', 'our', 'dog', 'or', 'cat', '.']\n",
      "Filtered Sentence: ['Main', 'reasons', 'abandoning', 'pet', 'animal', 'Reasons', 'abandoning', 'dogs', 'cats', 'According', 'latest', 'Affinity', 'Foundation', 'study', '“', 'He', 'would', 'never', '”', 'animal', 'abandonment', 'main', 'reasons', 'abandoning', 'dogs', 'cats', 'Spain', 'last', 'year', 'unwanted', 'litters', '15.3', 'end', 'hunting', 'season', '12.6', 'animal', 'problematic', 'behaviour', '10.8', 'economic', 'factors', '10.7', 'loss', 'interest', 'animal', '9.8', 'changes', 'residence', '8.9', 'Among', 'less', 'frequent', 'reasons', 'abandonment', 'find', 'allergies', 'one', 'family', 'members', '4.4', 'birth', 'child', '3.9', 'admission', 'hospital', 'death', 'owner', '6.0', 'holidays', '1.2', 'fear', 'contracting', 'toxoplasmosis', 'pregnancy', '0.5', 'When', 'living', 'pet', 'animal', 'success', 'Many', 'people', 'enjoy', 'company', 'dog', 'cat', 'would', 'never', 'consider', 'getting', 'rid', 'pet', 'animal', 'seen', 'another', 'member', 'family', 'Nevertheless', 'many', 'cases', 'coexistence', 'humans', 'animals', 'always', 'successful', 'sometimes', 'relationship', 'fails', 'If', 'somebody', 'strong', 'commitment', 'animal', 'exhaust', 'options', 'accepting', 'breaking', 'coexistence', 'Most', 'behavioural', 'problems', 'rectified', 'help', 'professional', 'However', 'becomes', 'impossible', 'continue', 'living', 'together', 'animal', 'find', 'another', 'family', 'person', 'take', 'care', 'ensure', 'animal', 'finds', 'best', 'possible', 'circumstances', 'It', 'possible', 'animal', 'adapt', 'household', 'yet', 'perfect', 'companion', 'another', 'family', 'person', 'We', 'could', 'example', 'look', 'family', 'surroundings', 'make', 'sure', 'good', 'hands', 'If', 'digital', 'platforms', 'like', 'Miwuki', 'help', 'providing', 'adoption', 'animals', 'They', 'establish', 'contact', 'shelters', 'possible', 'adopters', 'also', 'bring', 'people', 'take', 'care', 'animals', 'contact', 'individuals', 'interested', 'adopting', 'Awareness', 'animal', 'abandonment', 'Although', 'society', 'general', 'advancing', 'towards', 'growing', 'awareness', 'responsibility', 'pet', 'animals', 'commitment', 'required', 'live', 'unfortunately', 'still', 'many', 'cases', 'abandonment', 'In', 'percentage', 'terms', 'minority', 'even', '2', 'cases', 'The', 'majority', 'people', 'live', 'together', 'dog', 'cat', 'happily', 'responsibly', 'The', 'numbers', 'nevertheless', 'worrisome', 'indicate', 'still', 'many', 'people', 'healthy', 'relationship', 'animal', 'terms', 'responsibility', 'solid', 'commitment', 'Without', 'serious', 'prior', 'consideration', 'without', 'healthy', 'relationship', 'problems', 'derive', 'coexistence', 'may', 'lead', 'abandonment', 'Advice', 'case', 'want', 'adopt', 'pet', 'animal', 'If', 'considering', 'possibility', 'adopting', 'pet', 'animal', 'wish', 'share', 'life', 'dog', 'cat', 'keep', 'mind', 'following', 'key', 'aspects', ':', 'Think', 'Before', 'adopting', 'pet', 'animal', 'must', 'sure', 'commitment', 'implies', 'It', 'choice', 'rest', 'animal', 'life', 'involve', 'whole', 'family', 'decision', 'Look', 'information', 'Ask', 'advice', 'assessment', 'shelters', 'order', 'prepared', 'know', 'type', 'animal', 'goes', 'best', 'habits', 'informed', 'responsibilities', 'must', 'ready', 'assume', 'Sterilize', 'dog', 'cat', 'avoid', 'unwanted', 'litters', 'remains', 'main', 'cause', 'abandonment', 'Spain', 'Identify', 'pet', 'animal', 'correctly', 'help', 'returned', 'case', 'gone', 'missing', 'Train', 'animal', 'improve', 'behaviour', 'This', 'way', 'coexistence', 'much', 'easier', 'enjoy', 'company', 'dog', 'cat']\n"
     ]
    }
   ],
   "source": [
    "#remove stopwords\n",
    "\n",
    "filtered_sent=[]\n",
    "for w in tokenized_word:\n",
    "    if w not in stop_words and w not in (',', '.', '(', ')', '%', \"'s\"): # I added some more stopwords/characters to remove\n",
    "        filtered_sent.append(w)\n",
    "print(\"Tokenized Sentence:\",tokenized_word)\n",
    "print(\"Filtered Sentence:\",filtered_sent)"
   ]
  },
  {
   "cell_type": "code",
   "execution_count": 12,
   "id": "8c9fb01a",
   "metadata": {},
   "outputs": [
    {
     "name": "stdout",
     "output_type": "stream",
     "text": [
      "<FreqDist with 241 samples and 348 outcomes>\n"
     ]
    }
   ],
   "source": [
    "fdist_stopwords = FreqDist(filtered_sent)\n",
    "print(fdist_stopwords)"
   ]
  },
  {
   "cell_type": "code",
   "execution_count": 13,
   "id": "635a0b58",
   "metadata": {},
   "outputs": [
    {
     "data": {
      "text/plain": [
       "[('animal', 19),\n",
       " ('pet', 8),\n",
       " ('abandonment', 6),\n",
       " ('family', 6),\n",
       " ('dog', 5),\n",
       " ('cat', 5),\n",
       " ('people', 4),\n",
       " ('coexistence', 4),\n",
       " ('animals', 4),\n",
       " ('commitment', 4),\n",
       " ('reasons', 3),\n",
       " ('abandoning', 3),\n",
       " ('another', 3),\n",
       " ('many', 3),\n",
       " ('cases', 3),\n",
       " ('relationship', 3),\n",
       " ('If', 3),\n",
       " ('help', 3),\n",
       " ('possible', 3),\n",
       " ('adopting', 3),\n",
       " ('dogs', 2),\n",
       " ('cats', 2),\n",
       " ('would', 2),\n",
       " ('never', 2),\n",
       " ('main', 2),\n",
       " ('Spain', 2),\n",
       " ('unwanted', 2),\n",
       " ('litters', 2),\n",
       " ('behaviour', 2),\n",
       " ('find', 2),\n",
       " ('living', 2),\n",
       " ('enjoy', 2),\n",
       " ('company', 2),\n",
       " ('problems', 2),\n",
       " ('together', 2),\n",
       " ('person', 2),\n",
       " ('take', 2),\n",
       " ('care', 2),\n",
       " ('best', 2),\n",
       " ('It', 2),\n",
       " ('sure', 2),\n",
       " ('contact', 2),\n",
       " ('shelters', 2),\n",
       " ('responsibility', 2),\n",
       " ('live', 2),\n",
       " ('still', 2),\n",
       " ('terms', 2),\n",
       " ('The', 2),\n",
       " ('healthy', 2),\n",
       " ('case', 2)]"
      ]
     },
     "execution_count": 13,
     "metadata": {},
     "output_type": "execute_result"
    }
   ],
   "source": [
    "#50 most repeated words after removing stopwords\n",
    "\n",
    "fdist_stopwords.most_common(50)"
   ]
  },
  {
   "cell_type": "code",
   "execution_count": 14,
   "id": "5b2f44a5",
   "metadata": {},
   "outputs": [
    {
     "data": {
      "image/png": "[encoded data removed]",
      "text/plain": [
       "<Figure size 1440x720 with 1 Axes>"
      ]
     },
     "metadata": {
      "needs_background": "light"
     },
     "output_type": "display_data"
    }
   ],
   "source": [
    "#visualization of the 50 most repeated words\n",
    "\n",
    "fig = plt.figure(figsize = (20,10))\n",
    "fdist_stopwords.plot(50,cumulative=False, color = \"green\")\n",
    "plt.show()"
   ]
  },
  {
   "cell_type": "markdown",
   "id": "a6a7a12a",
   "metadata": {},
   "source": [
    "The type of most frequent words is totally different after removing the stopwords. Now, they reflect the topic of the text. "
   ]
  },
  {
   "cell_type": "code",
   "execution_count": 15,
   "id": "4fa6a35b",
   "metadata": {},
   "outputs": [
    {
     "name": "stdout",
     "output_type": "stream",
     "text": [
      "Filtered Sentence: ['Main', 'reasons', 'abandoning', 'pet', 'animal', 'Reasons', 'abandoning', 'dogs', 'cats', 'According', 'latest', 'Affinity', 'Foundation', 'study', '“', 'He', 'would', 'never', '”', 'animal', 'abandonment', 'main', 'reasons', 'abandoning', 'dogs', 'cats', 'Spain', 'last', 'year', 'unwanted', 'litters', '15.3', 'end', 'hunting', 'season', '12.6', 'animal', 'problematic', 'behaviour', '10.8', 'economic', 'factors', '10.7', 'loss', 'interest', 'animal', '9.8', 'changes', 'residence', '8.9', 'Among', 'less', 'frequent', 'reasons', 'abandonment', 'find', 'allergies', 'one', 'family', 'members', '4.4', 'birth', 'child', '3.9', 'admission', 'hospital', 'death', 'owner', '6.0', 'holidays', '1.2', 'fear', 'contracting', 'toxoplasmosis', 'pregnancy', '0.5', 'When', 'living', 'pet', 'animal', 'success', 'Many', 'people', 'enjoy', 'company', 'dog', 'cat', 'would', 'never', 'consider', 'getting', 'rid', 'pet', 'animal', 'seen', 'another', 'member', 'family', 'Nevertheless', 'many', 'cases', 'coexistence', 'humans', 'animals', 'always', 'successful', 'sometimes', 'relationship', 'fails', 'If', 'somebody', 'strong', 'commitment', 'animal', 'exhaust', 'options', 'accepting', 'breaking', 'coexistence', 'Most', 'behavioural', 'problems', 'rectified', 'help', 'professional', 'However', 'becomes', 'impossible', 'continue', 'living', 'together', 'animal', 'find', 'another', 'family', 'person', 'take', 'care', 'ensure', 'animal', 'finds', 'best', 'possible', 'circumstances', 'It', 'possible', 'animal', 'adapt', 'household', 'yet', 'perfect', 'companion', 'another', 'family', 'person', 'We', 'could', 'example', 'look', 'family', 'surroundings', 'make', 'sure', 'good', 'hands', 'If', 'digital', 'platforms', 'like', 'Miwuki', 'help', 'providing', 'adoption', 'animals', 'They', 'establish', 'contact', 'shelters', 'possible', 'adopters', 'also', 'bring', 'people', 'take', 'care', 'animals', 'contact', 'individuals', 'interested', 'adopting', 'Awareness', 'animal', 'abandonment', 'Although', 'society', 'general', 'advancing', 'towards', 'growing', 'awareness', 'responsibility', 'pet', 'animals', 'commitment', 'required', 'live', 'unfortunately', 'still', 'many', 'cases', 'abandonment', 'In', 'percentage', 'terms', 'minority', 'even', '2', 'cases', 'The', 'majority', 'people', 'live', 'together', 'dog', 'cat', 'happily', 'responsibly', 'The', 'numbers', 'nevertheless', 'worrisome', 'indicate', 'still', 'many', 'people', 'healthy', 'relationship', 'animal', 'terms', 'responsibility', 'solid', 'commitment', 'Without', 'serious', 'prior', 'consideration', 'without', 'healthy', 'relationship', 'problems', 'derive', 'coexistence', 'may', 'lead', 'abandonment', 'Advice', 'case', 'want', 'adopt', 'pet', 'animal', 'If', 'considering', 'possibility', 'adopting', 'pet', 'animal', 'wish', 'share', 'life', 'dog', 'cat', 'keep', 'mind', 'following', 'key', 'aspects', ':', 'Think', 'Before', 'adopting', 'pet', 'animal', 'must', 'sure', 'commitment', 'implies', 'It', 'choice', 'rest', 'animal', 'life', 'involve', 'whole', 'family', 'decision', 'Look', 'information', 'Ask', 'advice', 'assessment', 'shelters', 'order', 'prepared', 'know', 'type', 'animal', 'goes', 'best', 'habits', 'informed', 'responsibilities', 'must', 'ready', 'assume', 'Sterilize', 'dog', 'cat', 'avoid', 'unwanted', 'litters', 'remains', 'main', 'cause', 'abandonment', 'Spain', 'Identify', 'pet', 'animal', 'correctly', 'help', 'returned', 'case', 'gone', 'missing', 'Train', 'animal', 'improve', 'behaviour', 'This', 'way', 'coexistence', 'much', 'easier', 'enjoy', 'company', 'dog', 'cat']\n",
      "Stemmed Sentence: ['main', 'reason', 'abandon', 'pet', 'anim', 'reason', 'abandon', 'dog', 'cat', 'accord', 'latest', 'affin', 'foundat', 'studi', '“', 'he', 'would', 'never', '”', 'anim', 'abandon', 'main', 'reason', 'abandon', 'dog', 'cat', 'spain', 'last', 'year', 'unwant', 'litter', '15.3', 'end', 'hunt', 'season', '12.6', 'anim', 'problemat', 'behaviour', '10.8', 'econom', 'factor', '10.7', 'loss', 'interest', 'anim', '9.8', 'chang', 'resid', '8.9', 'among', 'less', 'frequent', 'reason', 'abandon', 'find', 'allergi', 'one', 'famili', 'member', '4.4', 'birth', 'child', '3.9', 'admiss', 'hospit', 'death', 'owner', '6.0', 'holiday', '1.2', 'fear', 'contract', 'toxoplasmosi', 'pregnanc', '0.5', 'when', 'live', 'pet', 'anim', 'success', 'mani', 'peopl', 'enjoy', 'compani', 'dog', 'cat', 'would', 'never', 'consid', 'get', 'rid', 'pet', 'anim', 'seen', 'anoth', 'member', 'famili', 'nevertheless', 'mani', 'case', 'coexist', 'human', 'anim', 'alway', 'success', 'sometim', 'relationship', 'fail', 'if', 'somebodi', 'strong', 'commit', 'anim', 'exhaust', 'option', 'accept', 'break', 'coexist', 'most', 'behaviour', 'problem', 'rectifi', 'help', 'profession', 'howev', 'becom', 'imposs', 'continu', 'live', 'togeth', 'anim', 'find', 'anoth', 'famili', 'person', 'take', 'care', 'ensur', 'anim', 'find', 'best', 'possibl', 'circumst', 'it', 'possibl', 'anim', 'adapt', 'household', 'yet', 'perfect', 'companion', 'anoth', 'famili', 'person', 'we', 'could', 'exampl', 'look', 'famili', 'surround', 'make', 'sure', 'good', 'hand', 'if', 'digit', 'platform', 'like', 'miwuki', 'help', 'provid', 'adopt', 'anim', 'they', 'establish', 'contact', 'shelter', 'possibl', 'adopt', 'also', 'bring', 'peopl', 'take', 'care', 'anim', 'contact', 'individu', 'interest', 'adopt', 'awar', 'anim', 'abandon', 'although', 'societi', 'gener', 'advanc', 'toward', 'grow', 'awar', 'respons', 'pet', 'anim', 'commit', 'requir', 'live', 'unfortun', 'still', 'mani', 'case', 'abandon', 'in', 'percentag', 'term', 'minor', 'even', '2', 'case', 'the', 'major', 'peopl', 'live', 'togeth', 'dog', 'cat', 'happili', 'respons', 'the', 'number', 'nevertheless', 'worrisom', 'indic', 'still', 'mani', 'peopl', 'healthi', 'relationship', 'anim', 'term', 'respons', 'solid', 'commit', 'without', 'seriou', 'prior', 'consider', 'without', 'healthi', 'relationship', 'problem', 'deriv', 'coexist', 'may', 'lead', 'abandon', 'advic', 'case', 'want', 'adopt', 'pet', 'anim', 'if', 'consid', 'possibl', 'adopt', 'pet', 'anim', 'wish', 'share', 'life', 'dog', 'cat', 'keep', 'mind', 'follow', 'key', 'aspect', ':', 'think', 'befor', 'adopt', 'pet', 'anim', 'must', 'sure', 'commit', 'impli', 'it', 'choic', 'rest', 'anim', 'life', 'involv', 'whole', 'famili', 'decis', 'look', 'inform', 'ask', 'advic', 'assess', 'shelter', 'order', 'prepar', 'know', 'type', 'anim', 'goe', 'best', 'habit', 'inform', 'respons', 'must', 'readi', 'assum', 'steril', 'dog', 'cat', 'avoid', 'unwant', 'litter', 'remain', 'main', 'caus', 'abandon', 'spain', 'identifi', 'pet', 'anim', 'correctli', 'help', 'return', 'case', 'gone', 'miss', 'train', 'anim', 'improv', 'behaviour', 'thi', 'way', 'coexist', 'much', 'easier', 'enjoy', 'compani', 'dog', 'cat']\n"
     ]
    }
   ],
   "source": [
    "#Stemming is a process of linguistic normalization, which reduces words to their word root word or chops off the derivational\n",
    "#affixes.\n",
    "\n",
    "ps = PorterStemmer()\n",
    "\n",
    "stemmed_words=[]\n",
    "for w in filtered_sent:\n",
    "    stemmed_words.append(ps.stem(w))\n",
    "\n",
    "print(\"Filtered Sentence:\",filtered_sent)\n",
    "print(\"Stemmed Sentence:\",stemmed_words)"
   ]
  },
  {
   "cell_type": "code",
   "execution_count": 16,
   "id": "7e3afb6e",
   "metadata": {},
   "outputs": [
    {
     "name": "stdout",
     "output_type": "stream",
     "text": [
      "<FreqDist with 214 samples and 348 outcomes>\n"
     ]
    }
   ],
   "source": [
    "fdist_stem = FreqDist(stemmed_words)\n",
    "print(fdist_stem)"
   ]
  },
  {
   "cell_type": "code",
   "execution_count": 17,
   "id": "bbc9b1e4",
   "metadata": {},
   "outputs": [
    {
     "data": {
      "text/plain": [
       "[('anim', 23),\n",
       " ('abandon', 9),\n",
       " ('pet', 8),\n",
       " ('dog', 7),\n",
       " ('cat', 7),\n",
       " ('famili', 6),\n",
       " ('adopt', 6),\n",
       " ('case', 5),\n",
       " ('reason', 4),\n",
       " ('live', 4),\n",
       " ('mani', 4),\n",
       " ('peopl', 4),\n",
       " ('coexist', 4),\n",
       " ('commit', 4),\n",
       " ('possibl', 4),\n",
       " ('respons', 4),\n",
       " ('main', 3),\n",
       " ('behaviour', 3),\n",
       " ('find', 3),\n",
       " ('anoth', 3),\n",
       " ('relationship', 3),\n",
       " ('if', 3),\n",
       " ('help', 3),\n",
       " ('would', 2),\n",
       " ('never', 2),\n",
       " ('spain', 2),\n",
       " ('unwant', 2),\n",
       " ('litter', 2),\n",
       " ('interest', 2),\n",
       " ('member', 2),\n",
       " ('success', 2),\n",
       " ('enjoy', 2),\n",
       " ('compani', 2),\n",
       " ('consid', 2),\n",
       " ('nevertheless', 2),\n",
       " ('problem', 2),\n",
       " ('togeth', 2),\n",
       " ('person', 2),\n",
       " ('take', 2),\n",
       " ('care', 2),\n",
       " ('best', 2),\n",
       " ('it', 2),\n",
       " ('look', 2),\n",
       " ('sure', 2),\n",
       " ('contact', 2),\n",
       " ('shelter', 2),\n",
       " ('awar', 2),\n",
       " ('still', 2),\n",
       " ('term', 2),\n",
       " ('the', 2)]"
      ]
     },
     "execution_count": 17,
     "metadata": {},
     "output_type": "execute_result"
    }
   ],
   "source": [
    "#50 most repeated words after performing stemming\n",
    "\n",
    "fdist_stem.most_common(50)"
   ]
  },
  {
   "cell_type": "code",
   "execution_count": 18,
   "id": "30ee9e4e",
   "metadata": {},
   "outputs": [
    {
     "data": {
      "image/png": "[encoded data removed]",
      "text/plain": [
       "<Figure size 1440x720 with 1 Axes>"
      ]
     },
     "metadata": {
      "needs_background": "light"
     },
     "output_type": "display_data"
    }
   ],
   "source": [
    "#visualization of the 50 most repeated words\n",
    "\n",
    "fig = plt.figure(figsize = (20,10))\n",
    "fdist_stem.plot(50,cumulative=False, color = \"green\")\n",
    "plt.show()"
   ]
  },
  {
   "cell_type": "markdown",
   "id": "538eda14",
   "metadata": {},
   "source": [
    "<u>*Exercice 3*<u>"
   ]
  },
  {
   "cell_type": "markdown",
   "id": "13988353",
   "metadata": {},
   "source": [
    "*Realitza sentiment analysis al teu conjunt de dades.*"
   ]
  },
  {
   "cell_type": "markdown",
   "id": "cd458bc8",
   "metadata": {},
   "source": [
    "We will use two tools to perform the sentimen analysis:\n",
    "\n",
    "- The .polarity_scores method of SentimentIntensityAnalyzer(), intended to analyse the negative/positive/neutral words.\n",
    "\n",
    "\n",
    "- text2emotion is another python package which extracts the emotions from the content. It processes any textual message and recognize the emotions embedded in it. It is compatible with 5 different emotion categories as Happy, Angry, Sad, Surprise and Fear."
   ]
  },
  {
   "cell_type": "code",
   "execution_count": 19,
   "id": "d1dbc83e",
   "metadata": {},
   "outputs": [
    {
     "data": {
      "text/plain": [
       "{'neg': 0.1, 'neu': 0.761, 'pos': 0.139, 'compound': 0.9782}"
      ]
     },
     "execution_count": 19,
     "metadata": {},
     "output_type": "execute_result"
    }
   ],
   "source": [
    "sentiment = SentimentIntensityAnalyzer()\n",
    "sentiment.polarity_scores(text_str)"
   ]
  },
  {
   "cell_type": "code",
   "execution_count": 20,
   "id": "a3bb49c8",
   "metadata": {},
   "outputs": [
    {
     "data": {
      "text/plain": [
       "{'Happy': 0.15, 'Angry': 0.02, 'Surprise': 0.19, 'Sad': 0.32, 'Fear': 0.32}"
      ]
     },
     "execution_count": 20,
     "metadata": {},
     "output_type": "execute_result"
    }
   ],
   "source": [
    "te.get_emotion(text_str)"
   ]
  },
  {
   "cell_type": "markdown",
   "id": "5fd52a3e",
   "metadata": {},
   "source": [
    "## Conclusions"
   ]
  },
  {
   "cell_type": "markdown",
   "id": "159529da",
   "metadata": {},
   "source": [
    "- If we delete the stopwords, the most frequent words are \"animal\", \"abandon\", \"pet\", \"dog\" and \"cat\" so we can get a general idea about what is the text about without even reading it.\n",
    "\n",
    "\n",
    "\n",
    "- The text I have chosen to perform the sentiment analysis to is more positive than negative, though, in general, it is neutral.\n",
    "\n",
    "\n",
    "\n",
    "- We can see that the predominant emotion in the text is sadness and fear, followed by surprise and hapiness. I think it is normal since the text is about the abandonment of dogs and cats."
   ]
  },
  {
   "cell_type": "code",
   "execution_count": null,
   "id": "edc83a86",
   "metadata": {},
   "outputs": [],
   "source": []
  }
 ],
 "metadata": {
  "kernelspec": {
   "display_name": "Python 3 (ipykernel)",
   "language": "python",
   "name": "python3"
  },
  "language_info": {
   "codemirror_mode": {
    "name": "ipython",
    "version": 3
   },
   "file_extension": ".py",
   "mimetype": "text/x-python",
   "name": "python",
   "nbconvert_exporter": "python",
   "pygments_lexer": "ipython3",
   "version": "3.9.7"
  },
  "latex_envs": {
   "LaTeX_envs_menu_present": true,
   "autoclose": false,
   "autocomplete": true,
   "bibliofile": "biblio.bib",
   "cite_by": "apalike",
   "current_citInitial": 1,
   "eqLabelWithNumbers": true,
   "eqNumInitial": 1,
   "hotkeys": {
    "equation": "Ctrl-E",
    "itemize": "Ctrl-I"
   },
   "labels_anchors": false,
   "latex_user_defs": false,
   "report_style_numbering": false,
   "user_envs_cfg": false
  }
 },
 "nbformat": 4,
 "nbformat_minor": 5
}
